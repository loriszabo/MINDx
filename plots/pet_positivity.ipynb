{
 "cells": [
  {
   "cell_type": "code",
   "execution_count": 1,
   "metadata": {},
   "outputs": [],
   "source": [
    "import pandas as pd\n",
    "import numpy as np\n",
    "from scipy import stats\n",
    "import seaborn as sns\n",
    "import os\n",
    "import matplotlib.pyplot as plt\n",
    "import ptitprince as pt\n",
    "# sns.set(style=\"darkgrid\")\n",
    "#sns.set(style=\"whitegrid\")\n",
    "sns.set_style(\"white\")\n",
    "# sns.set(style=\"whitegrid\",font_scale=2)\n"
   ]
  },
  {
   "cell_type": "code",
   "execution_count": 2,
   "metadata": {},
   "outputs": [],
   "source": [
    "import matplotlib.font_manager as font_manager\n",
    "from matplotlib import rc, rcParams\n",
    "\n",
    "# Check if Arial is available\n",
    "if 'Arial' in [f.name for f in font_manager.fontManager.ttflist]:\n",
    "    # plt.rcParams['font.family'] = 'Arial'\n",
    "    rc('axes', linewidth=0.5)\n",
    "    rc('font', size=7)\n",
    "    rcParams['font.family'] = 'Arial'\n",
    "else:\n",
    "    print(\"Arial font is not available. Using default.\")"
   ]
  },
  {
   "cell_type": "markdown",
   "metadata": {},
   "source": [
    "# Load datasets"
   ]
  },
  {
   "cell_type": "code",
   "execution_count": 3,
   "metadata": {},
   "outputs": [
    {
     "name": "stderr",
     "output_type": "stream",
     "text": [
      "/tmp/ipykernel_1611389/2215117765.py:4: DtypeWarning: Columns (31,190,192,194,196,198,200,208,210,212,214,459) have mixed types. Specify dtype option on import or set low_memory=False.\n",
      "  test = pd.read_csv('/data_1/skowshik/data/train_vld_test_split_updated/nacc_test_with_np_cli.csv')\n"
     ]
    }
   ],
   "source": [
    "adni_data_file = pd.read_csv('/data_1/skowshik/data/train_vld_test_split_updated/adni_merged.csv', usecols=['RID', 'amy_label', 'tau_label', 'fdg_label'])\n",
    "adni_model_pred = pd.read_csv('/home/skowshik/publication_ADRD_repo/adrd_tool/model_predictions_stripped_MNI_swinunetr/adni_merged_swinunetr_prob.csv')\n",
    "nacc_orig = pd.read_csv('/home/skowshik/data/new_nacc_unique_type_3.csv', usecols=['ID', 'cdr_CDRGLOB', 'AMYLPET', 'FDGAD', 'TAUPETAD', 'FDGFTLD', 'TPETFTLD', 'MRFTLD', 'DATSCAN'])\n",
    "test = pd.read_csv('/data_1/skowshik/data/train_vld_test_split_updated/nacc_test_with_np_cli.csv')\n",
    "nacc_prob = pd.read_csv('/home/skowshik/publication_ADRD_repo/adrd_tool/model_predictions_stripped_MNI_swinunetr/nacc_test_with_np_cli_swinunetr_prob.csv')\n",
    "nacc_test = nacc_orig[nacc_orig['ID'].isin(test['ID'])]\n",
    "nacc_merged = pd.merge(nacc_orig, nacc_prob, on=['ID', 'cdr_CDRGLOB'])"
   ]
  },
  {
   "cell_type": "code",
   "execution_count": 4,
   "metadata": {},
   "outputs": [
    {
     "data": {
      "text/plain": [
       "Index(['his_SMOKYRS'], dtype='object')"
      ]
     },
     "execution_count": 4,
     "metadata": {},
     "output_type": "execute_result"
    }
   ],
   "source": [
    "adni_data_file = pd.read_csv('/data_1/skowshik/data/train_vld_test_split_updated/adni_merged.csv')\n",
    "adni_data_file.columns[adni_data_file.columns.str.contains('SMOK')]"
   ]
  },
  {
   "cell_type": "code",
   "execution_count": 5,
   "metadata": {},
   "outputs": [],
   "source": [
    "adni_model_pred['RID'] = adni_model_pred['RID'].astype(int)\n",
    "adni_data_file['RID'] = adni_data_file['RID'].astype(int)"
   ]
  },
  {
   "cell_type": "code",
   "execution_count": 6,
   "metadata": {},
   "outputs": [],
   "source": [
    "# Get the amyloid values for the subjects in the adni data file\n",
    "# adni_data_file['amy_label'] = np.NaN\n",
    "# adni_data_file['tau_label'] = np.NaN\n",
    "# adni_data_file['fdg_label'] = np.NaN\n",
    "adni_data_file['DE_prob'] = np.NaN\n",
    "adni_data_file['AD_prob'] = np.NaN\n",
    "\n",
    "for i, row in adni_data_file.iterrows():\n",
    "    # if row['RID'] in list(filtered_adni_amyloid_file['RID']):\n",
    "        # adni_data_file.loc[adni_data_file['RID'] == row['RID'], 'amy_label'] = filtered_adni_amyloid_file[filtered_adni_amyloid_file['RID'] == row['RID']]['amy_label'].values[0]\n",
    "        # adni_data_file.loc[adni_data_file['RID'] == row['RID'], 'tau_label'] = filtered_adni_amyloid_file[filtered_adni_amyloid_file['RID'] == row['RID']]['tau_label'].values[0]\n",
    "        # adni_data_file.loc[adni_data_file['RID'] == row['RID'], 'fdg_label'] = filtered_adni_amyloid_file[filtered_adni_amyloid_file['RID'] == row['RID']]['fdg_label'].values[0]\n",
    "    adni_data_file.loc[adni_data_file['RID'] == row['RID'], 'DE_prob'] = adni_model_pred[adni_model_pred['RID'] == row['RID']]['DE_prob'].values[0]\n",
    "    adni_data_file.loc[adni_data_file['RID'] == row['RID'], 'AD_prob'] = adni_model_pred[adni_model_pred['RID'] == row['RID']]['AD_prob'].values[0]\n"
   ]
  },
  {
   "cell_type": "markdown",
   "metadata": {},
   "source": [
    "# Merge cohorts"
   ]
  },
  {
   "cell_type": "code",
   "execution_count": 7,
   "metadata": {},
   "outputs": [],
   "source": [
    "adni_data_file['Cohort'] = 'ADNI'\n",
    "nacc_merged['Cohort'] = 'NACC'"
   ]
  },
  {
   "cell_type": "code",
   "execution_count": 8,
   "metadata": {},
   "outputs": [],
   "source": [
    "adni_data_file.rename(columns={'amy_label': 'AMYLPET', 'tau_label': 'TAUPETAD', 'fdg_label': 'FDGAD'}, inplace=True)"
   ]
  },
  {
   "cell_type": "code",
   "execution_count": 9,
   "metadata": {},
   "outputs": [],
   "source": [
    "df = pd.concat([nacc_merged, adni_data_file])"
   ]
  },
  {
   "cell_type": "code",
   "execution_count": 10,
   "metadata": {},
   "outputs": [],
   "source": [
    "df.replace({'AMYLPET': {-4: np.nan, 8: np.nan}, 'TAUPETAD': {-4: np.nan, 8: np.nan}, 'FDGAD': {-4: np.nan, 8: np.nan}}, inplace=True)"
   ]
  },
  {
   "cell_type": "code",
   "execution_count": 11,
   "metadata": {},
   "outputs": [],
   "source": [
    "# df.to_csv('/data_1/varuna/adrd_pet_data.csv', index=False)"
   ]
  },
  {
   "cell_type": "markdown",
   "metadata": {},
   "source": [
    "# Stats Functions"
   ]
  },
  {
   "cell_type": "code",
   "execution_count": 12,
   "metadata": {},
   "outputs": [],
   "source": [
    "from scipy.stats import mannwhitneyu\n",
    "from scipy.stats import ttest_ind, levene\n",
    "\n",
    "def normality_test(df, X, Y):\n",
    "    for g in df[X].unique():\n",
    "        group = df[df[X] == g][Y]\n",
    "        if len(group) > 3: # Shapiro-Wilk test is not suitable for very small samples\n",
    "            try:\n",
    "                shapiro_pvalue = stats.shapiro(group).pvalue\n",
    "                print(f'Group {g}: Shapiro-Wilk Test, P-value = {shapiro_pvalue}, Normality Rejected: {shapiro_pvalue < 0.05}, Sample Size: {len(group)}')\n",
    "                \n",
    "                # For K-S test, consider standardizing or adjusting parameters\n",
    "                ks_pvalue = stats.kstest(group, 'norm', args=(group.mean(), group.std())).pvalue\n",
    "                print(f'Group {g}: K-S Test, P-value = {ks_pvalue}, Normality Rejected: {ks_pvalue < 0.05}')\n",
    "                \n",
    "            except Exception as e:\n",
    "                print(f'Error testing group {g}: {e}')\n",
    "                continue\n",
    "\n",
    "def mannwhit(df, X, Y):\n",
    "    \n",
    "    # ‘two-sided’: the distributions are not equal, i.e. F(u) ≠ G(u) for at least one u.\n",
    "\n",
    "    # ‘less’: the distribution underlying x is stochastically less than the distribution underlying y, i.e. F(u) > G(u) for all u.\n",
    "\n",
    "    # ‘greater’: the distribution underlying x is stochastically greater than the distribution underlying y, i.e. F(u) < G(u) for all u.\n",
    "\n",
    "    # print(f\"Mann-Whitney U Test Statistic: {stat}, P-value: {p_value}\")\n",
    "    \n",
    "    # Filter the DataFrame to create groups based on 'Positivity values\n",
    "    group0 = df[df[X] == 0][Y]\n",
    "    group1 = df[df[X] == 1][Y]\n",
    "\n",
    "    # Perform the Mann-Whitney U test\n",
    "    stat, p_value = mannwhitneyu(group0, group1, alternative='less')\n",
    "    print(f\"Mann-Whitney U Test: Statistic = {stat}, P-value = {p_value}\")\n",
    "\n",
    "def indttest(df, X, Y):\n",
    "    \n",
    "    # Separate based on amyloid status\n",
    "    group0 = df[df[X] == 0][Y]\n",
    "    group1 = df[df[X] == 1][Y]\n",
    "\n",
    "    # Check for equality of variances\n",
    "    stat, p_value_levene = levene(group0, group1)\n",
    "    print(f\"Levene's Test for Equality of Variances: Statistic = {stat}, P-value = {p_value_levene}\")\n",
    "    if p_value_levene < 0.05:\n",
    "        print(\"We cannot assume equality of variance - there's a statistically significant difference in the variances across the groups\")\n",
    "    else:\n",
    "        print(\"We assume equality of variance\")\n",
    "\n",
    "    # Determine whether to assume equal variances based on Levene's test\n",
    "    equal_var = True if p_value_levene > 0.05 else False # if levene is significant, we cannot assume equality of variance\n",
    "\n",
    "    # Perform the independent samples t-test\n",
    "    stat, p_value = ttest_ind(group0, group1, equal_var=equal_var, alternative='less')\n",
    "\n",
    "    print(f\"Independent Samples T-Test: Statistic = {stat}, P-value = {p_value}\")\n"
   ]
  },
  {
   "cell_type": "markdown",
   "metadata": {},
   "source": [
    "# Amyloid PET for AD"
   ]
  },
  {
   "cell_type": "code",
   "execution_count": 13,
   "metadata": {},
   "outputs": [
    {
     "name": "stdout",
     "output_type": "stream",
     "text": [
      "Group 0.0: Shapiro-Wilk Test, P-value = 3.7531977840622956e-14, Normality Rejected: True, Sample Size: 204\n",
      "Group 0.0: K-S Test, P-value = 6.291095415661682e-07, Normality Rejected: True\n",
      "Group 1.0: Shapiro-Wilk Test, P-value = 1.784420332425323e-12, Normality Rejected: True, Sample Size: 236\n",
      "Group 1.0: K-S Test, P-value = 0.00012888173356589316, Normality Rejected: True\n"
     ]
    }
   ],
   "source": [
    "nacc_df = df[df['Cohort'] == 'NACC']\n",
    "normality_test(nacc_df, 'AMYLPET', 'AD_prob')"
   ]
  },
  {
   "cell_type": "code",
   "execution_count": 14,
   "metadata": {},
   "outputs": [
    {
     "name": "stdout",
     "output_type": "stream",
     "text": [
      "Group 0.0: Shapiro-Wilk Test, P-value = 3.9103296412158337e-35, Normality Rejected: True, Sample Size: 653\n",
      "Group 0.0: K-S Test, P-value = 3.754079349801824e-42, Normality Rejected: True\n",
      "Group 1.0: Shapiro-Wilk Test, P-value = 2.603759699360818e-20, Normality Rejected: True, Sample Size: 455\n",
      "Group 1.0: K-S Test, P-value = 3.892501142534947e-13, Normality Rejected: True\n"
     ]
    },
    {
     "name": "stderr",
     "output_type": "stream",
     "text": [
      "/tmp/ipykernel_1611389/3396335595.py:2: SettingWithCopyWarning: \n",
      "A value is trying to be set on a copy of a slice from a DataFrame\n",
      "\n",
      "See the caveats in the documentation: https://pandas.pydata.org/pandas-docs/stable/user_guide/indexing.html#returning-a-view-versus-a-copy\n",
      "  adni_df.dropna(subset=['AMYLPET'], inplace=True)\n"
     ]
    }
   ],
   "source": [
    "adni_df = df[df['Cohort'] == 'ADNI']\n",
    "adni_df.dropna(subset=['AMYLPET'], inplace=True)\n",
    "normality_test(adni_df, 'AMYLPET', 'AD_prob')"
   ]
  },
  {
   "cell_type": "code",
   "execution_count": 15,
   "metadata": {},
   "outputs": [
    {
     "name": "stdout",
     "output_type": "stream",
     "text": [
      "Mann-Whitney U Test: Statistic = 10303.5, P-value = 2.037431347784222e-25\n"
     ]
    }
   ],
   "source": [
    "mannwhit(nacc_df, 'AMYLPET', 'AD_prob') # four stars"
   ]
  },
  {
   "cell_type": "code",
   "execution_count": 16,
   "metadata": {},
   "outputs": [
    {
     "name": "stderr",
     "output_type": "stream",
     "text": [
      "/tmp/ipykernel_1611389/406664959.py:1: SettingWithCopyWarning: \n",
      "A value is trying to be set on a copy of a slice from a DataFrame\n",
      "\n",
      "See the caveats in the documentation: https://pandas.pydata.org/pandas-docs/stable/user_guide/indexing.html#returning-a-view-versus-a-copy\n",
      "  adni_df.dropna(subset=['AD_prob', 'AMYLPET'], inplace= True)\n"
     ]
    }
   ],
   "source": [
    "adni_df.dropna(subset=['AD_prob', 'AMYLPET'], inplace= True)"
   ]
  },
  {
   "cell_type": "code",
   "execution_count": 17,
   "metadata": {},
   "outputs": [
    {
     "name": "stdout",
     "output_type": "stream",
     "text": [
      "Levene's Test for Equality of Variances: Statistic = 173.86055493833913, P-value = 5.57986592245387e-37\n",
      "We cannot assume equality of variance - there's a statistically significant difference in the variances across the groups\n",
      "Independent Samples T-Test: Statistic = -12.060217522431328, P-value = 9.737768944464039e-31\n"
     ]
    }
   ],
   "source": [
    "indttest(adni_df,'AMYLPET', 'AD_prob') # four stars"
   ]
  },
  {
   "cell_type": "code",
   "execution_count": 18,
   "metadata": {},
   "outputs": [],
   "source": [
    "# colorblind friendly\n",
    "cb_palette = sns.color_palette(\"colorblind\")\n",
    "custom_pal = {0: cb_palette[0], 1: cb_palette[4]}\n",
    "# custom_pal_colorblind = {0: \"#E69F00\", 1: \"#56B4E9\"}  # orange and blue\n",
    "# set2_palette = sns.color_palette(\"Set3\")\n",
    "# custom_pal = {0: set2_palette[2], 1: set2_palette[3]}"
   ]
  },
  {
   "cell_type": "code",
   "execution_count": 19,
   "metadata": {},
   "outputs": [],
   "source": [
    "# dx = \"Cohort\"; dy = \"AD_prob\"; dhue = \"AMYLPET\"; ort='v'; label_fontsize=15; ticks_fontsize=15; sigma=0.5\n",
    "\n",
    "# f, ax = plt.subplots(figsize=(12, 5))\n",
    "\n",
    "# # RainCloud plot\n",
    "# ax = pt.RainCloud(x=dx, y=dy, hue=dhue, data=df, palette=custom_pal, bw=sigma, width_viol=.7,\n",
    "#                   ax=ax, orient=ort, alpha=.65, dodge=True, cut = 2)\n",
    "\n",
    "# # Rename the legend labels to 'Negative' and 'Positive'\n",
    "# new_legend_labels = ['Negative', 'Positive']\n",
    "\n",
    "# # get unique labels to avoid repetitions for each distribution\n",
    "# handles, original_labels = ax.get_legend_handles_labels()\n",
    "\n",
    "# # rename legend and reposition\n",
    "# legend = ax.legend(handles, new_legend_labels, title=\"Amyloid PET\",\n",
    "#                    loc='upper left', bbox_to_anchor=(1, 1))\n",
    "\n",
    "# # extend x axis so nothing gets cut off\n",
    "# current_left, current_right = ax.get_xlim()\n",
    "# ax.set_xlim(current_left - 0.06, current_right + 0.06)\n",
    "\n",
    "# # move grid up\n",
    "# # current_y_max = ax.get_ylim()[1]  # get the current maximum y value\n",
    "# # y_pos = current_y_max * 1.05 \n",
    "# # ax.set_ylim(ax.get_ylim()[0], y_pos * 1.1)  # move the grid up so annotation fits\n",
    "\n",
    "# # add stats\n",
    "# x_pos = [-0.05, 0.06]  # X positions where you want the annotation to span\n",
    "# y_pos = df[dy].max() + 0.00005  # Y position, slightly above the highest data point or box plot\n",
    "\n",
    "# ax.plot(x_pos, [y_pos, y_pos], color=\"black\", lw=0.5)  # Draw the line between the points we're comparing\n",
    "# ax.text(np.mean(x_pos), y_pos , '****', ha='center', va='bottom', color=\"black\", fontsize=14)  # Add asterisk for significance\n",
    "\n",
    "# x_pos = [0.95, 1.06]  # X positions where you want the annotation to span\n",
    "# y_pos = df[dy].max() + 0.00005  # Y position, slightly above the highest data point or box plot\n",
    "\n",
    "# ax.plot(x_pos, [y_pos, y_pos], color=\"black\", lw=0.5)  # Draw the line between the points we're comparing\n",
    "# ax.text(np.mean(x_pos), y_pos , '****', ha='center', va='bottom', color=\"black\", fontsize=14)  # Add asterisk for significance\n",
    "\n",
    "\n",
    "# # rename and resize labels\n",
    "# ax.set_xlabel(\"Cohort\", fontsize = label_fontsize)\n",
    "# ax.set_ylabel(\"AD Probability\", fontsize = label_fontsize)\n",
    "# ax.set_xticklabels(['NACC', 'ADNI'], fontsize = ticks_fontsize)\n",
    "# # plt.title(\"Model Predicted AD Probabilities by Amyloid Status\", fontsize=16)\n",
    "# plt.setp(ax.get_legend().get_texts(), fontsize='14') # for legend text\n",
    "# plt.setp(ax.get_legend().get_title(), fontsize='14') # for legend title\n",
    "\n",
    "# plt.subplots_adjust(right=0.75) \n",
    "\n",
    "# plt.show()\n"
   ]
  },
  {
   "cell_type": "code",
   "execution_count": 20,
   "metadata": {},
   "outputs": [],
   "source": [
    "# Get the palette\n",
    "cb_palette = sns.color_palette(\"colorblind\")\n",
    "custom_pal = {0: cb_palette[9], 1: cb_palette[4]}\n",
    "\n",
    "# label_fontsize = 20\n",
    "# ticks_fontsize = 20\n",
    "# sticker_fontsize = 15"
   ]
  },
  {
   "cell_type": "markdown",
   "metadata": {},
   "source": [
    "# Get legend"
   ]
  },
  {
   "cell_type": "code",
   "execution_count": 21,
   "metadata": {},
   "outputs": [],
   "source": [
    "# def plot_biomarker(df, dx, dy, dhue, ort, trim, ylabel, sticker, save_path):\n",
    "\n",
    "#     f, ax = plt.subplots(figsize=(4, 2.3))\n",
    "#     # RainCloud plot\n",
    "#     ax = pt.RainCloud(x=dx, y=dy, hue=dhue, data=df, palette=custom_pal, bw=0.2, width_viol=.7, width_box=0.2,\n",
    "#                       ax=ax, orient=ort, alpha=.65, dodge=True, cut = trim, offset=0.15, point_size = 2)\n",
    "    \n",
    "#     # Legend setup...\n",
    "#     handles, labels = ax.get_legend_handles_labels()\n",
    "#     new_legend_labels = ['Neg.', 'Pos.']  # Adjusted labels if necessary\n",
    "#     legend = ax.legend(handles, new_legend_labels, title=\"Biomarker Status\",\n",
    "#                        loc='upper left', bbox_to_anchor=(1, 1),\n",
    "#                        fontsize=label_fontsize, title_fontsize=label_fontsize)\n",
    "             \n",
    "#     # extend x axis so nothing gets cut off\n",
    "#     current_left, current_right = ax.get_xlim()\n",
    "#     ax.set_xlim(current_left - 0.06, current_right + 0.06)\n",
    "\n",
    "#     # add stats\n",
    "#     x_pos = [-0.04, 0.04]  # X positions where we want the annotation to span\n",
    "#     y_pos = df[dy].max() + 0.05  # Y position, slightly above the highest data point or box plot\n",
    "#     ax.plot(x_pos, [y_pos, y_pos], color=\"#404040\", lw=0.5)  # draw the line between the points we're comparing\n",
    "#     ax.text(np.mean(x_pos), y_pos , '****', ha='center', va='bottom', color=\"#404040\", fontsize=16)  # Add asterisk for significance\n",
    "#     line_length = 0.01  # Length of the ticks\n",
    "#     ax.plot([x_pos[0], x_pos[0]], [y_pos - line_length, y_pos + line_length], color=\"#404040\", lw=0.5)\n",
    "#     ax.plot([x_pos[1], x_pos[1]], [y_pos - line_length, y_pos + line_length], color=\"#404040\", lw=0.5)\n",
    "\n",
    "#     x_pos = [0.96, 1.04]  # X positions where you want the second cohort annotation to span\n",
    "#     y_pos = df[dy].max() + 0.05  # Y position, slightly above the highest data point or box plot\n",
    "#     ax.plot(x_pos, [y_pos, y_pos], color=\"#404040\", lw=0.5)  # Draw the line between the points we're comparing\n",
    "#     ax.text(np.mean(x_pos), y_pos , '****', ha='center', va='bottom', color=\"#404040\", fontsize=16)  # Add asterisk for significance\n",
    "#     line_length = 0.01  # Length of the ticks\n",
    "#     ax.plot([x_pos[0], x_pos[0]], [y_pos - line_length, y_pos + line_length], color=\"#404040\", lw=0.5)\n",
    "#     ax.plot([x_pos[1], x_pos[1]], [y_pos - line_length, y_pos + line_length], color=\"#404040\", lw=0.5)\n",
    "\n",
    "#     # rename and resize labels\n",
    "#     ax.set_xlabel(\"\", fontsize = label_fontsize)\n",
    "#     ax.set_ylabel(ylabel, fontsize = label_fontsize)\n",
    "#     ax.set_xticklabels(['NACC', 'ADNI'], fontsize = ticks_fontsize)\n",
    "#     ax.tick_params(axis='both', labelsize=ticks_fontsize)\n",
    "#     # ax.legend().remove() # remove\n",
    "#     ax.text(0.03, 0.95, sticker, fontsize=sticker_fontsize, ha=\"left\", va=\"top\",\n",
    "#     bbox=dict(boxstyle=\"round,pad=0.3\", fc=\"white\", ec=\"#404040\", lw=0.5),\n",
    "#     transform=ax.transAxes)\n",
    "\n",
    "#     plt.subplots_adjust(right=0.75)\n",
    "#     if save_path:\n",
    "#         plt.savefig(save_path,dpi=300, bbox_inches='tight')\n",
    "#     plt.show()\n",
    "#     # ax.legend().remove() # remove\n"
   ]
  },
  {
   "cell_type": "code",
   "execution_count": 22,
   "metadata": {},
   "outputs": [],
   "source": [
    "# plot_biomarker(df, \"Cohort\", \"AD_prob\", \"AMYLPET\", \"v\", 3, r\"$P(AD)$\",  r\"A$\\beta$ PET\", \"final_figs/biomarker_legend.svg\")"
   ]
  },
  {
   "cell_type": "markdown",
   "metadata": {},
   "source": [
    "# Modified source code"
   ]
  },
  {
   "cell_type": "code",
   "execution_count": 23,
   "metadata": {},
   "outputs": [],
   "source": [
    "import ptitprince1 as pt\n",
    "from matplotlib import font_manager\n",
    "import matplotlib as mpl\n",
    "font_manager.findSystemFonts(fontpaths=None, fontext=\"ttf\")\n",
    "font_manager.findfont(\"Arial\") \n",
    "# mpl.rc('axes', linewidth=0.5)\n",
    "# mpl.rc('font', size=18)\n",
    "# mpl.rcParams['font.family'] = 'Arial'\n",
    "import matplotlib.collections as clt\n",
    "# plt.rc('axes', linewidth=0.5)\n",
    "# plt.rc('font', size=18)\n",
    "# plt.rcParams['font.family'] = 'Arial'"
   ]
  },
  {
   "cell_type": "code",
   "execution_count": 24,
   "metadata": {},
   "outputs": [],
   "source": [
    "# Get the palette\n",
    "cb_palette = sns.color_palette(\"colorblind\")\n",
    "custom_pal = {0: cb_palette[9], 1: cb_palette[4]}\n",
    "\n",
    "# global definitions\n",
    "label_fontsize = 7\n",
    "ticks_fontsize = 7\n",
    "sticker_fontsize = 7\n",
    "asterisk_fontsize = 7"
   ]
  },
  {
   "cell_type": "markdown",
   "metadata": {},
   "source": [
    "# Cohort Plot Function"
   ]
  },
  {
   "cell_type": "code",
   "execution_count": 25,
   "metadata": {},
   "outputs": [],
   "source": [
    "def plot_cohorts(df, dx, dy, dhue, ort, trim, ylabel, sticker, save_path):\n",
    "    f, ax = plt.subplots(figsize=(4, 2.3))\n",
    "    # RainCloud plot\n",
    "    ax = pt.RainCloud(x=dx, y=dy, hue=dhue, data=df, palette=custom_pal, bw=0.2, width_viol=.7, width_box=0.2,\n",
    "                      ax=ax, orient=ort, alpha=.65, dodge=True, cut = trim, offset=0.15, point_size = 1.2, jitter=0.1, linewidth=0.5)\n",
    "                    \n",
    "    # extend x axis so nothing gets cut off\n",
    "    current_left, current_right = ax.get_xlim()\n",
    "    ax.set_xlim(current_left - 0.2, current_right + 0.2)\n",
    "\n",
    "    # add stats\n",
    "    x_pos = [-0.04, 0.04]  # X positions where we want the annotation to span\n",
    "    y_pos = df[dy].max() + 0.05  # Y position, slightly above the highest data point or box plot\n",
    "    ax.plot(x_pos, [y_pos, y_pos], color=\"#404040\", lw=0.5)  # draw the line between the points we're comparing\n",
    "    ax.text(np.mean(x_pos), y_pos , '****', ha='center', va='bottom', color=\"#404040\", fontname='Arial', fontsize=asterisk_fontsize)  # Add asterisk for significance\n",
    "    line_length = 0.01  # Length of the ticks\n",
    "    ax.plot([x_pos[0], x_pos[0]], [y_pos - line_length, y_pos + line_length], color=\"#404040\", lw=0.5)\n",
    "    ax.plot([x_pos[1], x_pos[1]], [y_pos - line_length, y_pos + line_length], color=\"#404040\", lw=0.5)\n",
    "\n",
    "    x_pos = [0.96, 1.04]  # X positions where you want the second cohort annotation to span\n",
    "    y_pos = df[dy].max() + 0.05  # Y position, slightly above the highest data point or box plot\n",
    "    ax.plot(x_pos, [y_pos, y_pos], color=\"#404040\", lw=0.5)  # Draw the line between the points we're comparing\n",
    "    ax.text(np.mean(x_pos), y_pos , '****', ha='center', va='bottom', color=\"#404040\", fontname='Arial', fontsize=asterisk_fontsize)  # Add asterisk for significance\n",
    "    line_length = 0.01  # Length of the ticks\n",
    "    ax.plot([x_pos[0], x_pos[0]], [y_pos - line_length, y_pos + line_length], color=\"#404040\", lw=0.5)\n",
    "    ax.plot([x_pos[1], x_pos[1]], [y_pos - line_length, y_pos + line_length], color=\"#404040\", lw=0.5)\n",
    "\n",
    "    # rename and resize labels\n",
    "    ax.set_xlabel(\"\",  fontname='Arial', fontsize = label_fontsize)\n",
    "    ax.set_ylabel(ylabel, fontname='Arial', fontsize = label_fontsize)\n",
    "    ax.set_xticklabels(['NACC', 'ADNI'], fontname='Arial', fontsize = ticks_fontsize)\n",
    "    ax.tick_params(axis='both', labelsize=ticks_fontsize)\n",
    "\n",
    "    # rename legend and reposition\n",
    "    ax.text(0.02, 0.97, sticker, fontname='Arial', fontsize=sticker_fontsize, ha=\"left\", va=\"top\",\n",
    "    bbox=dict(boxstyle=\"round,pad=0.2\", fc=\"white\", ec=\"#404040\", lw=0.5),\n",
    "    transform=ax.transAxes)\n",
    "    ax.set_ylim(-0.2, 1.25)  # Set the limits of the y-axis\n",
    "    ax.set_yticks(np.arange(0, 1.2, 0.2))  # Set y-ticks to range from 0 to 1 in increments of 0.2\n",
    "    ax.legend().remove() # remove\n",
    "    plt.subplots_adjust(right=0.75)\n",
    "    if save_path:\n",
    "        plt.savefig(save_path,dpi=300, bbox_inches='tight')\n",
    "    plt.show()"
   ]
  },
  {
   "cell_type": "code",
   "execution_count": 26,
   "metadata": {},
   "outputs": [
    {
     "name": "stdout",
     "output_type": "stream",
     "text": [
      "hello\n"
     ]
    },
    {
     "data": {
      "image/png": "[encoded data removed]",
      "text/plain": [
       "<Figure size 400x230 with 1 Axes>"
      ]
     },
     "metadata": {},
     "output_type": "display_data"
    }
   ],
   "source": [
    "# plot_cohorts(df, \"Cohort\", \"AD_prob\", \"AMYLPET\", \"v\", 3, r\"$P(AD)$\",  r\"A$\\beta$ PET\", \"final_figs/amyloid_ad.pdf\")\n",
    "# plot_cohorts(df, \"Cohort\", \"AD_prob\", \"AMYLPET\", \"v\", 3, r\"$P(AD)$\",  r\"A$\\beta$ PET\", \"final_figs/png/amyloid_ad.png\")\n",
    "plot_cohorts(df, \"Cohort\", \"AD_prob\", \"AMYLPET\", \"v\", 3, r\"$P(AD)$\",  r\"A$\\beta$ PET\", \"final_figs/amyloid_ad.pdf\")"
   ]
  },
  {
   "cell_type": "markdown",
   "metadata": {},
   "source": [
    "# Tau PET for AD"
   ]
  },
  {
   "cell_type": "code",
   "execution_count": 27,
   "metadata": {},
   "outputs": [
    {
     "name": "stdout",
     "output_type": "stream",
     "text": [
      "Group 0.0: Shapiro-Wilk Test, P-value = 1.7616028773188664e-06, Normality Rejected: True, Sample Size: 81\n",
      "Group 0.0: K-S Test, P-value = 0.05466521042957907, Normality Rejected: False\n",
      "Group 1.0: Shapiro-Wilk Test, P-value = 0.0006015354079909111, Normality Rejected: True, Sample Size: 51\n",
      "Group 1.0: K-S Test, P-value = 0.0904348605864369, Normality Rejected: False\n"
     ]
    }
   ],
   "source": [
    "normality_test(nacc_df, 'TAUPETAD', 'AD_prob')"
   ]
  },
  {
   "cell_type": "code",
   "execution_count": 28,
   "metadata": {},
   "outputs": [
    {
     "name": "stdout",
     "output_type": "stream",
     "text": [
      "Mann-Whitney U Test: Statistic = 935.5, P-value = 6.480839175681842e-08\n"
     ]
    }
   ],
   "source": [
    "mannwhit(nacc_df, 'TAUPETAD', 'AD_prob') # 4 stars"
   ]
  },
  {
   "cell_type": "code",
   "execution_count": 29,
   "metadata": {},
   "outputs": [
    {
     "name": "stdout",
     "output_type": "stream",
     "text": [
      "Group 0.0: Shapiro-Wilk Test, P-value = 3.3908016850005255e-30, Normality Rejected: True, Sample Size: 373\n",
      "Group 0.0: K-S Test, P-value = 4.09884884838795e-30, Normality Rejected: True\n",
      "Group 1.0: Shapiro-Wilk Test, P-value = 3.186222970215916e-05, Normality Rejected: True, Sample Size: 102\n",
      "Group 1.0: K-S Test, P-value = 0.053393904485872876, Normality Rejected: False\n"
     ]
    }
   ],
   "source": [
    "normality_test(adni_df, 'TAUPETAD', 'AD_prob')"
   ]
  },
  {
   "cell_type": "code",
   "execution_count": 30,
   "metadata": {},
   "outputs": [
    {
     "name": "stdout",
     "output_type": "stream",
     "text": [
      "Mann-Whitney U Test: Statistic = 5857.5, P-value = 4.096324991880399e-27\n"
     ]
    }
   ],
   "source": [
    "mannwhit(adni_df, 'TAUPETAD', 'AD_prob') # 4 stars"
   ]
  },
  {
   "cell_type": "code",
   "execution_count": 31,
   "metadata": {},
   "outputs": [
    {
     "name": "stdout",
     "output_type": "stream",
     "text": [
      "hello\n"
     ]
    },
    {
     "data": {
      "image/png": "[encoded data removed]",
      "text/plain": [
       "<Figure size 400x230 with 1 Axes>"
      ]
     },
     "metadata": {},
     "output_type": "display_data"
    }
   ],
   "source": [
    "plot_cohorts(df, \"Cohort\", \"AD_prob\", \"TAUPETAD\", \"v\", 3, r\"$P(AD)$\", \"Tau PET\", \"final_figs/tau_ad.pdf\")\n",
    "# plot_cohorts(df, \"Cohort\", \"AD_prob\", \"TAUPETAD\", \"v\", 3, r\"$P(AD)$\", \"Tau PET\", \"final_figs/png/tau_ad.png\")"
   ]
  },
  {
   "cell_type": "markdown",
   "metadata": {},
   "source": [
    "# FDG PET for AD"
   ]
  },
  {
   "cell_type": "code",
   "execution_count": 32,
   "metadata": {},
   "outputs": [
    {
     "name": "stdout",
     "output_type": "stream",
     "text": [
      "Group 0.0: Shapiro-Wilk Test, P-value = 4.4078117496312254e-05, Normality Rejected: True, Sample Size: 139\n",
      "Group 0.0: K-S Test, P-value = 0.33583146519179785, Normality Rejected: False\n",
      "Group 1.0: Shapiro-Wilk Test, P-value = 0.00010053869966041137, Normality Rejected: True, Sample Size: 122\n",
      "Group 1.0: K-S Test, P-value = 0.18218481913609436, Normality Rejected: False\n",
      "Group 0.0: Shapiro-Wilk Test, P-value = 2.512796176518376e-28, Normality Rejected: True, Sample Size: 595\n",
      "Group 0.0: K-S Test, P-value = 1.682423731250591e-24, Normality Rejected: True\n",
      "Group 1.0: Shapiro-Wilk Test, P-value = 8.640639958167783e-06, Normality Rejected: True, Sample Size: 165\n",
      "Group 1.0: K-S Test, P-value = 0.04078589592111892, Normality Rejected: True\n"
     ]
    }
   ],
   "source": [
    "normality_test(nacc_df, 'FDGAD', 'AD_prob')\n",
    "normality_test(adni_df, 'FDGAD', 'AD_prob')"
   ]
  },
  {
   "cell_type": "code",
   "execution_count": 33,
   "metadata": {},
   "outputs": [
    {
     "name": "stdout",
     "output_type": "stream",
     "text": [
      "Mann-Whitney U Test: Statistic = 3730.0, P-value = 3.000679444730613e-15\n",
      "Mann-Whitney U Test: Statistic = 14924.0, P-value = 5.657162313403359e-43\n"
     ]
    }
   ],
   "source": [
    "mannwhit(nacc_df, 'FDGAD', 'AD_prob') # 4 stars\n",
    "mannwhit(adni_df, 'FDGAD', 'AD_prob') # 4 stars"
   ]
  },
  {
   "cell_type": "code",
   "execution_count": 34,
   "metadata": {},
   "outputs": [
    {
     "name": "stdout",
     "output_type": "stream",
     "text": [
      "hello\n"
     ]
    },
    {
     "data": {
      "image/png": "[encoded data removed]",
      "text/plain": [
       "<Figure size 400x230 with 1 Axes>"
      ]
     },
     "metadata": {},
     "output_type": "display_data"
    }
   ],
   "source": [
    "plot_cohorts(df, \"Cohort\", \"AD_prob\", \"FDGAD\", \"v\", 3, r\"$P(AD)$\", \"FDG PET\", \"final_figs/fdg_ad.pdf\")\n",
    "# plot_cohorts(df, \"Cohort\", \"AD_prob\", \"FDGAD\", \"v\", 3, r\"$P(AD)$\", \"FDG PET\", \"final_figs/png/fdg_ad.png\")"
   ]
  },
  {
   "cell_type": "markdown",
   "metadata": {},
   "source": [
    "# NACC Only"
   ]
  },
  {
   "cell_type": "markdown",
   "metadata": {},
   "source": [
    "# Plot Function NACC"
   ]
  },
  {
   "cell_type": "code",
   "execution_count": 35,
   "metadata": {},
   "outputs": [],
   "source": [
    "from statannotations.Annotator import Annotator"
   ]
  },
  {
   "cell_type": "code",
   "execution_count": 36,
   "metadata": {},
   "outputs": [],
   "source": [
    "def plot_nacc(df, dx, dy, ort, trim, ylabel, stats_offset, sig, sticker, save_path):\n",
    "    f, ax = plt.subplots(figsize=(4, 2.3))\n",
    "\n",
    "    # RainCloud plot\n",
    "    ax = pt.RainCloud(x=dx, y=dy, data=df, palette=custom_pal, bw=0.2, width_viol=.7, width_box=0.1,\n",
    "                      ax=ax, orient=ort, alpha=.65, dodge=True, cut = trim, offset=0.15, point_size = 1.2, linewidth=0.5, jitter=0.06)\n",
    "\n",
    "    # ax.legend().remove() # remove\n",
    "\n",
    "    # extend x axis so nothing gets cut off\n",
    "    current_left, current_right = ax.get_xlim()\n",
    "    ax.set_xlim(current_left - 0.2, current_right + 0.2)\n",
    "\n",
    "    # add stats\n",
    "    x_pos = [0, 1.0]  # X positions where we want the annotation to span\n",
    "    y_pos = df[dy].max() + stats_offset  # Y position, slightly above the highest data point or box plot\n",
    "    line_length = 0.02  # Length of the ticks\n",
    "    ax.plot(x_pos, [y_pos, y_pos], color=\"#404040\", lw=0.5)  # draw the line between the points we're comparing\n",
    "    ax.plot([x_pos[0], x_pos[0]], [y_pos - line_length, y_pos + line_length], color=\"#404040\", lw=0.5)\n",
    "    ax.plot([x_pos[1], x_pos[1]], [y_pos - line_length, y_pos + line_length], color=\"#404040\", lw=0.5)\n",
    "\n",
    "    ax.text(np.mean(x_pos), y_pos , sig, ha='center', va='bottom', color=\"#404040\", fontsize=asterisk_fontsize)  # Add asterisk for significance\n",
    "    # rename and resize labels\n",
    "    ax.set_xlabel(\"\", fontsize = label_fontsize)\n",
    "    ax.set_ylabel(ylabel, fontsize = label_fontsize)\n",
    "    ax.set_xticklabels(['', ''])\n",
    "    ax.tick_params(axis='both', labelsize=ticks_fontsize)\n",
    "    ax.text(0.02, 0.97, sticker, fontsize=sticker_fontsize, ha=\"left\", va=\"top\",\n",
    "        bbox=dict(boxstyle=\"round,pad=0.2\", fc=\"white\", ec=\"#404040\", lw=0.5),\n",
    "        transform=ax.transAxes)\n",
    "    # Set y-axis range and ticks\n",
    "    ax.set_ylim(-0.2, 1.25)  # Set the limits of the y-axis\n",
    "    ax.set_yticks(np.arange(0, 1.2, 0.2))  # Set y-ticks to range from 0 to 1 in increments of 0.2\n",
    "    plt.subplots_adjust(right=0.75)\n",
    "    if save_path:\n",
    "        plt.savefig(save_path,dpi=300, bbox_inches='tight')\n",
    "\n",
    "    plt.show()"
   ]
  },
  {
   "cell_type": "markdown",
   "metadata": {},
   "source": [
    "# FTD "
   ]
  },
  {
   "cell_type": "code",
   "execution_count": 37,
   "metadata": {},
   "outputs": [
    {
     "data": {
      "text/plain": [
       "0.0    181\n",
       "1.0     52\n",
       "Name: FDGFTLD, dtype: int64"
      ]
     },
     "execution_count": 37,
     "metadata": {},
     "output_type": "execute_result"
    }
   ],
   "source": [
    "nacc_df_ftd = nacc_df.dropna(subset=['FDGFTLD'])\n",
    "nacc_df_ftd['FDGFTLD'].value_counts()\n",
    "nacc_df_ftd.replace({-4: np.nan, 8: np.nan}, inplace = True)\n",
    "nacc_df_ftd['FDGFTLD'].value_counts()"
   ]
  },
  {
   "cell_type": "markdown",
   "metadata": {},
   "source": [
    "# FDG for FTD"
   ]
  },
  {
   "cell_type": "code",
   "execution_count": 38,
   "metadata": {},
   "outputs": [
    {
     "name": "stdout",
     "output_type": "stream",
     "text": [
      "Group 0.0: Shapiro-Wilk Test, P-value = 0.011173172431045167, Normality Rejected: True, Sample Size: 181\n",
      "Group 0.0: K-S Test, P-value = 0.7499167256802334, Normality Rejected: False\n",
      "Group 1.0: Shapiro-Wilk Test, P-value = 3.0565436134384395e-05, Normality Rejected: True, Sample Size: 52\n",
      "Group 1.0: K-S Test, P-value = 0.10262745581101507, Normality Rejected: False\n"
     ]
    }
   ],
   "source": [
    "normality_test(nacc_df_ftd, 'FDGFTLD', 'FTD_prob')"
   ]
  },
  {
   "cell_type": "code",
   "execution_count": 39,
   "metadata": {},
   "outputs": [
    {
     "name": "stdout",
     "output_type": "stream",
     "text": [
      "Mann-Whitney U Test: Statistic = 1599.5, P-value = 2.0813651640762862e-13\n"
     ]
    }
   ],
   "source": [
    "mannwhit(nacc_df_ftd,'FDGFTLD', 'FTD_prob') # four stars"
   ]
  },
  {
   "cell_type": "code",
   "execution_count": 40,
   "metadata": {},
   "outputs": [
    {
     "name": "stdout",
     "output_type": "stream",
     "text": [
      "hello\n"
     ]
    },
    {
     "data": {
      "image/png": "[encoded data removed]",
      "text/plain": [
       "<Figure size 400x230 with 1 Axes>"
      ]
     },
     "metadata": {},
     "output_type": "display_data"
    }
   ],
   "source": [
    "plot_nacc(nacc_df_ftd, \"FDGFTLD\", \"FTD_prob\", \"v\", 3, r\"$P(FTD)$\", 0.2, \"****\", \"FDG PET\", \"final_figs/fdg_ftd.pdf\")\n",
    "# plot_nacc(nacc_df_ftd, \"FDGFTLD\", \"FTD_prob\", \"v\", 3, r\"$P(FTD)$\", 0.2, \"****\", \"FDG PET\", \"final_figs/png/fdg_ftd.png\")"
   ]
  },
  {
   "cell_type": "markdown",
   "metadata": {},
   "source": [
    "# Tau PET Pattern for FTD"
   ]
  },
  {
   "cell_type": "code",
   "execution_count": 41,
   "metadata": {},
   "outputs": [
    {
     "name": "stdout",
     "output_type": "stream",
     "text": [
      "Group 0.0: Shapiro-Wilk Test, P-value = 0.0006183716367575918, Normality Rejected: True, Sample Size: 123\n",
      "Group 0.0: K-S Test, P-value = 0.3452995457209736, Normality Rejected: False\n",
      "Group 1.0: Shapiro-Wilk Test, P-value = 0.36897134306585055, Normality Rejected: False, Sample Size: 6\n",
      "Group 1.0: K-S Test, P-value = 0.8443108332331162, Normality Rejected: False\n"
     ]
    }
   ],
   "source": [
    "normality_test(nacc_df_ftd, 'TPETFTLD', 'FTD_prob')"
   ]
  },
  {
   "cell_type": "code",
   "execution_count": 42,
   "metadata": {},
   "outputs": [
    {
     "name": "stdout",
     "output_type": "stream",
     "text": [
      "Mann-Whitney U Test: Statistic = 257.5, P-value = 0.10722282728917254\n"
     ]
    }
   ],
   "source": [
    "mannwhit(nacc_df_ftd,'TPETFTLD', 'FTD_prob')"
   ]
  },
  {
   "cell_type": "code",
   "execution_count": 43,
   "metadata": {},
   "outputs": [
    {
     "name": "stdout",
     "output_type": "stream",
     "text": [
      "hello\n"
     ]
    },
    {
     "data": {
      "image/png": "[encoded data removed]",
      "text/plain": [
       "<Figure size 400x230 with 1 Axes>"
      ]
     },
     "metadata": {},
     "output_type": "display_data"
    }
   ],
   "source": [
    "plot_nacc(nacc_df_ftd, \"TPETFTLD\", \"FTD_prob\", \"v\", 3, r\"$P(FTD)$\", 0.2, \"ns\", \"Tau PET\", \"final_figs/tau_ftd.pdf\")"
   ]
  },
  {
   "cell_type": "markdown",
   "metadata": {},
   "source": [
    "# MR Evidence for FTD"
   ]
  },
  {
   "cell_type": "code",
   "execution_count": 44,
   "metadata": {},
   "outputs": [
    {
     "name": "stdout",
     "output_type": "stream",
     "text": [
      "Group 0.0: Shapiro-Wilk Test, P-value = 3.9557254880225463e-26, Normality Rejected: True, Sample Size: 1329\n",
      "Group 0.0: K-S Test, P-value = 2.0336254062513043e-16, Normality Rejected: True\n",
      "Group 1.0: Shapiro-Wilk Test, P-value = 7.266284932883183e-11, Normality Rejected: True, Sample Size: 165\n",
      "Group 1.0: K-S Test, P-value = 0.00034858754147750143, Normality Rejected: True\n"
     ]
    }
   ],
   "source": [
    "normality_test(nacc_df_ftd, 'MRFTLD', 'FTD_prob')"
   ]
  },
  {
   "cell_type": "code",
   "execution_count": 45,
   "metadata": {},
   "outputs": [
    {
     "name": "stdout",
     "output_type": "stream",
     "text": [
      "Mann-Whitney U Test: Statistic = 30935.5, P-value = 1.5189860538115352e-51\n"
     ]
    }
   ],
   "source": [
    "mannwhit(nacc_df_ftd,'MRFTLD', 'FTD_prob')"
   ]
  },
  {
   "cell_type": "code",
   "execution_count": 46,
   "metadata": {},
   "outputs": [
    {
     "name": "stdout",
     "output_type": "stream",
     "text": [
      "hello\n"
     ]
    },
    {
     "data": {
      "image/png": "[encoded data removed]",
      "text/plain": [
       "<Figure size 400x230 with 1 Axes>"
      ]
     },
     "metadata": {},
     "output_type": "display_data"
    }
   ],
   "source": [
    "plot_nacc(nacc_df_ftd, \"MRFTLD\", \"FTD_prob\", \"v\", 3, r\"$P(FTD)$\", 0.2, \"****\", \"MRI\", \"final_figs/MR_ftd.pdf\")\n",
    "# plot_nacc(nacc_df_ftd, \"MRFTLD\", \"FTD_prob\", \"v\", 3, r\"$P(FTD)$\", 0.2, \"****\", \"MRI\", \"final_figs/png/MR_ftd.png\")"
   ]
  },
  {
   "cell_type": "markdown",
   "metadata": {},
   "source": [
    "# LBD"
   ]
  },
  {
   "cell_type": "code",
   "execution_count": 47,
   "metadata": {},
   "outputs": [
    {
     "data": {
      "text/plain": [
       "0.0    67\n",
       "1.0    24\n",
       "Name: DATSCAN, dtype: int64"
      ]
     },
     "execution_count": 47,
     "metadata": {},
     "output_type": "execute_result"
    }
   ],
   "source": [
    "nacc_df_lbd = nacc_df.dropna(subset=['DATSCAN'])\n",
    "nacc_df_lbd['DATSCAN'].value_counts()\n",
    "nacc_df_lbd.replace({-4: np.nan, 8: np.nan}, inplace = True)\n",
    "nacc_df_lbd['DATSCAN'].value_counts()"
   ]
  },
  {
   "cell_type": "code",
   "execution_count": 48,
   "metadata": {},
   "outputs": [
    {
     "name": "stdout",
     "output_type": "stream",
     "text": [
      "Group 0.0: Shapiro-Wilk Test, P-value = 1.7938140929148961e-06, Normality Rejected: True, Sample Size: 67\n",
      "Group 0.0: K-S Test, P-value = 0.0655358207671098, Normality Rejected: False\n",
      "Group 1.0: Shapiro-Wilk Test, P-value = 0.05809334555407032, Normality Rejected: False, Sample Size: 24\n",
      "Group 1.0: K-S Test, P-value = 0.8800257925738375, Normality Rejected: False\n"
     ]
    }
   ],
   "source": [
    "normality_test(nacc_df_lbd, 'DATSCAN', 'LBD_prob')"
   ]
  },
  {
   "cell_type": "code",
   "execution_count": 49,
   "metadata": {},
   "outputs": [
    {
     "name": "stdout",
     "output_type": "stream",
     "text": [
      "Mann-Whitney U Test: Statistic = 318.5, P-value = 6.258303041813397e-06\n"
     ]
    }
   ],
   "source": [
    "mannwhit(nacc_df_lbd,'DATSCAN', 'LBD_prob')"
   ]
  },
  {
   "cell_type": "code",
   "execution_count": 50,
   "metadata": {},
   "outputs": [
    {
     "name": "stdout",
     "output_type": "stream",
     "text": [
      "hello\n"
     ]
    },
    {
     "data": {
      "image/png": "[encoded data removed]",
      "text/plain": [
       "<Figure size 400x230 with 1 Axes>"
      ]
     },
     "metadata": {},
     "output_type": "display_data"
    }
   ],
   "source": [
    "plot_nacc(nacc_df_lbd, \"DATSCAN\", \"LBD_prob\", \"v\", 3, r\"$P(LBD)$\", 0.09, \"****\", \"DaTscan\", \"final_figs/DAT_lbd.pdf\")\n",
    "# plot_nacc(nacc_df_lbd, \"DATSCAN\", \"LBD_prob\", \"v\", 3, r\"$P(LBD)$\", 0.09, \"****\", \"DaTscan\", \"final_figs/png/DAT_lbd.png\")"
   ]
  },
  {
   "cell_type": "markdown",
   "metadata": {},
   "source": [
    "# Generic plot for figure 1"
   ]
  },
  {
   "cell_type": "code",
   "execution_count": 51,
   "metadata": {},
   "outputs": [],
   "source": [
    "# def plot_generic(df, dx, dy, ort, trim, ylabel, stats_offset, sig, sticker, save_path):\n",
    "#     f, ax = plt.subplots(figsize=(5, 5))\n",
    "\n",
    "#     # RainCloud plot\n",
    "#     ax = pt.RainCloud(x=dx, y=dy, data=df, palette=custom_pal, bw=0.2, width_viol=.7, width_box=0.1,\n",
    "#                       ax=ax, orient=ort, alpha=.65, dodge=True, cut = trim, offset=0.15, point_size = 2)\n",
    "    \n",
    "#     # extend x axis so nothing gets cut off\n",
    "#     current_left, current_right = ax.get_xlim()\n",
    "#     ax.set_xlim(current_left - 0.2, current_right + 0.2)\n",
    "\n",
    "#     # add stats\n",
    "#     x_pos = [0, 1.0]  # X positions where we want the annotation to span\n",
    "#     y_pos = df[dy].max() + stats_offset  # Y position, slightly above the highest data point or box plot\n",
    "#     line_length = 0.02  # Length of the ticks\n",
    "#     ax.plot(x_pos, [y_pos, y_pos], color=\"#404040\", lw=0.5)  # draw the line between the points we're comparing\n",
    "#     ax.plot([x_pos[0], x_pos[0]], [y_pos - line_length, y_pos + line_length], color=\"#404040\", lw=0.5)\n",
    "#     ax.plot([x_pos[1], x_pos[1]], [y_pos - line_length, y_pos + line_length], color=\"#404040\", lw=0.5)\n",
    "\n",
    "#     ax.text(np.mean(x_pos), y_pos , sig, ha='center', va='bottom', color=\"#404040\", fontsize=asterisk_fontsize)  # Add asterisk for significance\n",
    "#     # rename and resize labels\n",
    "#     ax.set_xlabel(\"\", fontsize = label_fontsize)\n",
    "#     ax.set_ylabel(ylabel, fontsize = label_fontsize)\n",
    "#     ax.set_xticklabels(['', ''])\n",
    "#     ax.tick_params(axis='both', labelsize=13)\n",
    "#     # ax.text(0.038, 0.97, sticker, fontsize=12, ha=\"left\", va=\"top\",\n",
    "#     #     bbox=dict(boxstyle=\"round,pad=0.3\", fc=\"white\", ec=\"#404040\", lw=0.5),\n",
    "#     #     transform=ax.transAxes)\n",
    "    \n",
    "#     # Set y-axis range and ticks\n",
    "#     ax.set_ylim(-0.2, 1.25)  # Set the limits of the y-axis\n",
    "#     ax.set_yticks(np.arange(0, 1.2, 0.2))  # Set y-ticks to range from 0 to 1 in increments of 0.2\n",
    "#     # plt.subplots_adjust(right=0.75)\n",
    "\n",
    "#     if save_path:\n",
    "#         plt.savefig(save_path,dpi=300, bbox_inches='tight')\n",
    "\n",
    "#     plt.show()"
   ]
  },
  {
   "cell_type": "code",
   "execution_count": 52,
   "metadata": {},
   "outputs": [],
   "source": [
    "# nacc_df_ad = nacc_df.dropna(subset=['TAUPETAD'])\n",
    "# nacc_df_ad['TAUPETAD'].value_counts()\n",
    "# # nacc_df_ad.replace({-4: np.nan, 8: np.nan}, inplace = True)\n",
    "# # nacc_df_ad['TAUPETAD'].value_counts()"
   ]
  },
  {
   "cell_type": "code",
   "execution_count": 53,
   "metadata": {},
   "outputs": [],
   "source": [
    "# plot_generic(nacc_df_ad, \"TAUPETAD\", \"AD_prob\", \"v\", 3, r\"$P(DE)$\", 0.15, \"****\", \"Biomarker Status\", 'final_figs/generic.svg')"
   ]
  },
  {
   "cell_type": "code",
   "execution_count": 54,
   "metadata": {},
   "outputs": [],
   "source": [
    "# from statannotations.Annotator import Annotator\n",
    "\n",
    "# f, ax = plt.subplots(figsize=(10, 5))\n",
    "\n",
    "# # Generate the RainCloud plot\n",
    "# ax = pt.RainCloud(x=dx, y=dy, hue=dhue, data=df, palette=custom_pal, bw=sigma, width_viol=.7,\n",
    "#                   ax=ax, orient=ort, alpha=.65, dodge=True, move=.2)\n",
    "\n",
    "# pairs = [((\"NACC\", 0), (\"NACC\", 1)), ((\"ADNI\", 0), (\"ADNI\", 1))]  # Define the pairs you want to test and annotate\n",
    "\n",
    "# # Initialize the Annotator with the ax object, data, pairs to compare, and the test to use\n",
    "# annotator = Annotator(ax, pairs, data=df, x=dx, y=dy, hue=dhue, orient=ort)\n",
    "# annotator.configure(test='Mann-Whitney', text_format='star', loc='inside', verbose=2)\n",
    "# annotator.apply_and_annotate()\n",
    "\n",
    "\n",
    "# # Adjust plot elements\n",
    "# ax.set_xlabel(\"Cohort\", fontsize=15)\n",
    "# ax.set_ylabel(\"AD Probability\", fontsize=15)\n",
    "# plt.title(\"Model Predicted AD Probabilities by Amyloid Status\", fontsize=16)\n",
    "\n",
    "# plt.tight_layout()\n",
    "# plt.show()\n"
   ]
  },
  {
   "cell_type": "code",
   "execution_count": null,
   "metadata": {},
   "outputs": [],
   "source": []
  },
  {
   "cell_type": "code",
   "execution_count": null,
   "metadata": {},
   "outputs": [],
   "source": []
  },
  {
   "cell_type": "code",
   "execution_count": null,
   "metadata": {},
   "outputs": [],
   "source": []
  },
  {
   "cell_type": "code",
   "execution_count": null,
   "metadata": {},
   "outputs": [],
   "source": []
  }
 ],
 "metadata": {
  "kernelspec": {
   "display_name": "pet-project",
   "language": "python",
   "name": "python3"
  },
  "language_info": {
   "codemirror_mode": {
    "name": "ipython",
    "version": 3
   },
   "file_extension": ".py",
   "mimetype": "text/x-python",
   "name": "python",
   "nbconvert_exporter": "python",
   "pygments_lexer": "ipython3",
   "version": "3.11.7"
  }
 },
 "nbformat": 4,
 "nbformat_minor": 2
}
